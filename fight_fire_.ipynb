{
 "cells": [
  {
   "cell_type": "code",
   "execution_count": 1,
   "metadata": {
    "colab": {
     "autoexec": {
      "startup": false,
      "wait_interval": 0
     },
     "base_uri": "https://localhost:8080/",
     "height": 34,
     "output_extras": [
      {
       "item_id": 1
      }
     ]
    },
    "colab_type": "code",
    "executionInfo": {
     "elapsed": 2826,
     "status": "ok",
     "timestamp": 1521135226290,
     "user": {
      "displayName": "Pavan Reddy",
      "photoUrl": "https://lh3.googleusercontent.com/a/default-user=s128",
      "userId": "114419219091991855526"
     },
     "user_tz": 300
    },
    "id": "Zh9-NTPOt-cb",
    "outputId": "eea5b1a4-6175-49c2-c67a-848073e29be4"
   },
   "outputs": [
    {
     "name": "stderr",
     "output_type": "stream",
     "text": [
      "Using TensorFlow backend.\n"
     ]
    }
   ],
   "source": [
    "from keras.models import Sequential\n",
    "from keras.layers import Conv2D\n",
    "from keras.layers import MaxPooling2D\n",
    "from keras.layers import Flatten\n",
    "from keras.layers import Dense"
   ]
  },
  {
   "cell_type": "code",
   "execution_count": 0,
   "metadata": {
    "colab": {
     "autoexec": {
      "startup": false,
      "wait_interval": 0
     }
    },
    "colab_type": "code",
    "id": "SCLX9f5iuWXi"
   },
   "outputs": [],
   "source": [
    "classifier = Sequential()"
   ]
  },
  {
   "cell_type": "code",
   "execution_count": 0,
   "metadata": {
    "colab": {
     "autoexec": {
      "startup": false,
      "wait_interval": 0
     }
    },
    "colab_type": "code",
    "id": "EGPb7kZxucTz"
   },
   "outputs": [],
   "source": [
    "classifier.add(Conv2D(32, (3, 3), input_shape = (64, 64, 3), activation = 'relu'))"
   ]
  },
  {
   "cell_type": "code",
   "execution_count": 0,
   "metadata": {
    "colab": {
     "autoexec": {
      "startup": false,
      "wait_interval": 0
     }
    },
    "colab_type": "code",
    "id": "pBLIwS7IuuEG"
   },
   "outputs": [],
   "source": [
    "classifier.add(MaxPooling2D(pool_size = (2, 2)))"
   ]
  },
  {
   "cell_type": "code",
   "execution_count": 0,
   "metadata": {
    "colab": {
     "autoexec": {
      "startup": false,
      "wait_interval": 0
     }
    },
    "colab_type": "code",
    "id": "AY7moE1xvPjC"
   },
   "outputs": [],
   "source": [
    "classifier.add(Flatten())"
   ]
  },
  {
   "cell_type": "code",
   "execution_count": 0,
   "metadata": {
    "colab": {
     "autoexec": {
      "startup": false,
      "wait_interval": 0
     }
    },
    "colab_type": "code",
    "id": "kEYetj7TvSOO"
   },
   "outputs": [],
   "source": [
    "classifier.add(Dense(units = 128, activation = 'relu'))"
   ]
  },
  {
   "cell_type": "code",
   "execution_count": 0,
   "metadata": {
    "colab": {
     "autoexec": {
      "startup": false,
      "wait_interval": 0
     }
    },
    "colab_type": "code",
    "id": "a6ff8cfKvVb7"
   },
   "outputs": [],
   "source": [
    "classifier.add(Dense(units = 1, activation = 'sigmoid'))"
   ]
  },
  {
   "cell_type": "code",
   "execution_count": 0,
   "metadata": {
    "colab": {
     "autoexec": {
      "startup": false,
      "wait_interval": 0
     }
    },
    "colab_type": "code",
    "id": "VHpDBG4xvZpd"
   },
   "outputs": [],
   "source": [
    "classifier.compile(optimizer = 'adam', loss = 'binary_crossentropy', metrics = ['accuracy'])"
   ]
  },
  {
   "cell_type": "code",
   "execution_count": 0,
   "metadata": {
    "colab": {
     "autoexec": {
      "startup": false,
      "wait_interval": 0
     }
    },
    "colab_type": "code",
    "id": "mb3ebWIewFvZ"
   },
   "outputs": [],
   "source": [
    "from keras.preprocessing.image import ImageDataGenerator"
   ]
  },
  {
   "cell_type": "code",
   "execution_count": 13,
   "metadata": {
    "colab": {
     "autoexec": {
      "startup": false,
      "wait_interval": 0
     },
     "base_uri": "https://localhost:8080/",
     "height": 101,
     "output_extras": [
      {
       "item_id": 4
      }
     ]
    },
    "colab_type": "code",
    "executionInfo": {
     "elapsed": 10595,
     "status": "ok",
     "timestamp": 1521136066316,
     "user": {
      "displayName": "Pavan Reddy",
      "photoUrl": "https://lh3.googleusercontent.com/a/default-user=s128",
      "userId": "114419219091991855526"
     },
     "user_tz": 300
    },
    "id": "LncJmG4IxiNv",
    "outputId": "a7501a15-293d-46a8-c968-19c5ca0f7e8f"
   },
   "outputs": [
    {
     "name": "stdout",
     "output_type": "stream",
     "text": [
      "Cloning into 'firedataset'...\n",
      "remote: Counting objects: 1001, done.\u001b[K\n",
      "remote: Compressing objects: 100% (999/999), done.\u001b[K\n",
      "remote: Total 1001 (delta 0), reused 1001 (delta 0), pack-reused 0\u001b[K\n",
      "Receiving objects: 100% (1001/1001), 34.45 MiB | 57.83 MiB/s, done.\n"
     ]
    }
   ],
   "source": [
    "! git clone --recursive https://github.com/kalariya-parikshith/firedataset.git"
   ]
  },
  {
   "cell_type": "code",
   "execution_count": 14,
   "metadata": {
    "colab": {
     "autoexec": {
      "startup": false,
      "wait_interval": 0
     },
     "base_uri": "https://localhost:8080/",
     "height": 34,
     "output_extras": [
      {
       "item_id": 1
      }
     ]
    },
    "colab_type": "code",
    "executionInfo": {
     "elapsed": 2010,
     "status": "ok",
     "timestamp": 1521136087623,
     "user": {
      "displayName": "Pavan Reddy",
      "photoUrl": "https://lh3.googleusercontent.com/a/default-user=s128",
      "userId": "114419219091991855526"
     },
     "user_tz": 300
    },
    "id": "RnIDuwy1xp-Y",
    "outputId": "3dc76917-713c-4bbc-fb96-22980265d1d5"
   },
   "outputs": [
    {
     "name": "stdout",
     "output_type": "stream",
     "text": [
      "test  train  valid\r\n"
     ]
    }
   ],
   "source": [
    "!ls firedataset/Data/firedata"
   ]
  },
  {
   "cell_type": "code",
   "execution_count": 25,
   "metadata": {
    "colab": {
     "autoexec": {
      "startup": false,
      "wait_interval": 0
     },
     "base_uri": "https://localhost:8080/",
     "height": 51,
     "output_extras": [
      {
       "item_id": 1
      }
     ]
    },
    "colab_type": "code",
    "executionInfo": {
     "elapsed": 998,
     "status": "ok",
     "timestamp": 1521136669332,
     "user": {
      "displayName": "Pavan Reddy",
      "photoUrl": "https://lh3.googleusercontent.com/a/default-user=s128",
      "userId": "114419219091991855526"
     },
     "user_tz": 300
    },
    "id": "A_si9yhcvcxW",
    "outputId": "2d1f132d-000f-4221-a2e2-5e97c45143c1"
   },
   "outputs": [
    {
     "name": "stdout",
     "output_type": "stream",
     "text": [
      "Found 639 images belonging to 2 classes.\n",
      "Found 225 images belonging to 2 classes.\n"
     ]
    }
   ],
   "source": [
    "train_datagen = ImageDataGenerator(rescale = 1./255,\n",
    "shear_range = 0.2,\n",
    "zoom_range = 0.2,\n",
    "horizontal_flip = True)\n",
    "test_datagen = ImageDataGenerator(rescale = 1./255)\n",
    "training_set = train_datagen.flow_from_directory('firedataset/Data/firedata/train',target_size = (64, 64),batch_size = 32,class_mode = 'binary')\n",
    "test_set = test_datagen.flow_from_directory('firedataset/Data/firedata/test',target_size = (64, 64),batch_size = 32,class_mode = 'binary')"
   ]
  },
  {
   "cell_type": "code",
   "execution_count": 0,
   "metadata": {
    "colab": {
     "autoexec": {
      "startup": false,
      "wait_interval": 0
     }
    },
    "colab_type": "code",
    "id": "pYVhq5lxzKT1"
   },
   "outputs": [],
   "source": []
  },
  {
   "cell_type": "code",
   "execution_count": 27,
   "metadata": {
    "colab": {
     "autoexec": {
      "startup": false,
      "wait_interval": 0
     },
     "base_uri": "https://localhost:8080/",
     "height": 121,
     "output_extras": [
      {
       "item_id": 578
      },
      {
       "item_id": 775
      },
      {
       "item_id": 776
      }
     ]
    },
    "colab_type": "code",
    "executionInfo": {
     "elapsed": 323017,
     "status": "ok",
     "timestamp": 1521137544403,
     "user": {
      "displayName": "Pavan Reddy",
      "photoUrl": "https://lh3.googleusercontent.com/a/default-user=s128",
      "userId": "114419219091991855526"
     },
     "user_tz": 300
    },
    "id": "HCQvk47KvtlQ",
    "outputId": "5446b881-c4af-453d-e214-bf00ea9805d0"
   },
   "outputs": [
    {
     "name": "stdout",
     "output_type": "stream",
     "text": [
      "Epoch 1/2\n",
      "500/500 [==============================] - 162s 324ms/step - loss: 0.0094 - acc: 0.9973 - val_loss: 1.0947 - val_acc: 0.8667\n",
      "Epoch 2/2\n",
      "240/500 [=============>................] - ETA: 1:10 - loss: 0.0070 - acc: 0.9980500/500 [==============================] - 160s 320ms/step - loss: 0.0165 - acc: 0.9939 - val_loss: 0.6225 - val_acc: 0.8978\n"
     ]
    },
    {
     "data": {
      "text/plain": [
       "<keras.callbacks.History at 0x7fcfed6e0b00>"
      ]
     },
     "execution_count": 27,
     "metadata": {
      "tags": []
     },
     "output_type": "execute_result"
    }
   ],
   "source": [
    "classifier.fit_generator(training_set,\n",
    "                         steps_per_epoch = 500,\n",
    "                         epochs = 2,\n",
    "                         validation_data = test_set,\n",
    "                         validation_steps = 200)"
   ]
  },
  {
   "cell_type": "code",
   "execution_count": 39,
   "metadata": {
    "colab": {
     "autoexec": {
      "startup": false,
      "wait_interval": 0
     },
     "base_uri": "https://localhost:8080/",
     "height": 454,
     "output_extras": [
      {
       "item_id": 1
      }
     ]
    },
    "colab_type": "code",
    "executionInfo": {
     "elapsed": 1813,
     "status": "ok",
     "timestamp": 1521137899562,
     "user": {
      "displayName": "Pavan Reddy",
      "photoUrl": "https://lh3.googleusercontent.com/a/default-user=s128",
      "userId": "114419219091991855526"
     },
     "user_tz": 300
    },
    "id": "ShlxJ8kv3cC3",
    "outputId": "8b14d371-843c-4e48-d1bb-bb8c6fd1818e"
   },
   "outputs": [
    {
     "name": "stdout",
     "output_type": "stream",
     "text": [
      "images - 564.jpeg  images - 607.jpeg  images - 645.jpeg  images - 701.jpeg\r\n",
      "images - 565.jpeg  images - 608.jpeg  images - 647.jpeg  images - 702.jpeg\r\n",
      "images - 567.jpeg  images - 609.jpeg  images - 648.jpeg  images - 703.jpeg\r\n",
      "images - 568.jpeg  images - 611.jpeg  images - 649.jpeg  images - 706.jpeg\r\n",
      "images - 569.jpeg  images - 613.jpeg  images - 650.jpeg  images - 712.jpeg\r\n",
      "images - 570.jpeg  images - 614.jpeg  images - 651.jpeg  images - 713.jpeg\r\n",
      "images - 571.jpeg  images - 616.jpeg  images - 655.jpeg  images - 714.jpeg\r\n",
      "images - 572.jpeg  images - 617.jpeg  images - 659.jpeg  images - 716.jpeg\r\n",
      "images - 573.jpeg  images - 618.jpeg  images - 662.jpeg  images - 717.jpeg\r\n",
      "images - 578.jpeg  images - 620.jpeg  images - 664.jpeg  images - 718.jpeg\r\n",
      "images - 579.jpeg  images - 622.jpeg  images - 666.jpeg  images - 720.jpeg\r\n",
      "images - 580.jpeg  images - 623.jpeg  images - 667.jpeg  images - 721.jpeg\r\n",
      "images - 583.jpeg  images - 625.jpeg  images - 668.jpeg  images - 722.jpeg\r\n",
      "images - 585.jpeg  images - 627.jpeg  images - 670.jpeg  images - 725.jpeg\r\n",
      "images - 586.jpeg  images - 629.jpeg  images - 673.jpeg  images - 727.jpeg\r\n",
      "images - 588.jpeg  images - 630.jpeg  images - 676.jpeg  images - 729.jpeg\r\n",
      "images - 589.jpeg  images - 631.jpeg  images - 678.jpeg  images - 734.jpeg\r\n",
      "images - 590.jpeg  images - 633.jpeg  images - 681.jpeg  images - 735.jpeg\r\n",
      "images - 591.jpeg  images - 634.jpeg  images - 684.jpeg  images - 740.jpeg\r\n",
      "images - 592.jpeg  images - 635.jpeg  images - 689.jpeg  images - 742.jpeg\r\n",
      "images - 593.jpeg  images - 637.jpeg  images - 692.jpeg  images - 746.jpeg\r\n",
      "images - 595.jpeg  images - 638.jpeg  images - 693.jpeg  images - 749.jpeg\r\n",
      "images - 600.jpeg  images - 639.jpeg  images - 694.jpeg  Z - 6.jpeg\r\n",
      "images - 601.jpeg  images - 640.jpeg  images - 695.jpeg  Z - 7.jpeg\r\n",
      "images - 603.jpeg  images - 642.jpeg  images - 698.jpeg  Z - 8.jpeg\r\n",
      "images - 604.jpeg  images - 644.jpeg  images - 700.jpeg  Z - 9.jpeg\r\n"
     ]
    }
   ],
   "source": [
    "!ls firedataset/Data/firedata/test/notfire"
   ]
  },
  {
   "cell_type": "code",
   "execution_count": 42,
   "metadata": {
    "colab": {
     "autoexec": {
      "startup": false,
      "wait_interval": 0
     },
     "base_uri": "https://localhost:8080/",
     "height": 34,
     "output_extras": [
      {
       "item_id": 1
      }
     ]
    },
    "colab_type": "code",
    "executionInfo": {
     "elapsed": 958,
     "status": "ok",
     "timestamp": 1521137998992,
     "user": {
      "displayName": "Pavan Reddy",
      "photoUrl": "https://lh3.googleusercontent.com/a/default-user=s128",
      "userId": "114419219091991855526"
     },
     "user_tz": 300
    },
    "id": "b0Gc7BTMyMgu",
    "outputId": "ef33370e-b5a4-4914-b1f5-30605e3ea1a6"
   },
   "outputs": [
    {
     "name": "stdout",
     "output_type": "stream",
     "text": [
      "fire\n"
     ]
    }
   ],
   "source": [
    "import numpy as np\n",
    "from keras.preprocessing import image\n",
    "test_image = image.load_img('firedataset/Data/firedata/test/notfire/images - 670.jpeg', target_size = (64, 64))\n",
    "test_image = image.img_to_array(test_image)\n",
    "test_image = np.expand_dims(test_image, axis = 0)\n",
    "result = classifier.predict(test_image)\n",
    "training_set.class_indices\n",
    "if result[0][0] == 1:\n",
    "  prediction = 'notfire'\n",
    "else:\n",
    "  prediction = 'fire'\n",
    "print(prediction)"
   ]
  },
  {
   "cell_type": "code",
   "execution_count": 37,
   "metadata": {
    "colab": {
     "autoexec": {
      "startup": false,
      "wait_interval": 0
     },
     "base_uri": "https://localhost:8080/",
     "height": 34,
     "output_extras": [
      {
       "item_id": 1
      }
     ]
    },
    "colab_type": "code",
    "executionInfo": {
     "elapsed": 1220,
     "status": "ok",
     "timestamp": 1521137852463,
     "user": {
      "displayName": "Pavan Reddy",
      "photoUrl": "https://lh3.googleusercontent.com/a/default-user=s128",
      "userId": "114419219091991855526"
     },
     "user_tz": 300
    },
    "id": "C6WCFTay3yxY",
    "outputId": "fe0bc129-0666-459f-fc3d-0880184539a8"
   },
   "outputs": [
    {
     "data": {
      "text/plain": [
       "'notfire'"
      ]
     },
     "execution_count": 37,
     "metadata": {
      "tags": []
     },
     "output_type": "execute_result"
    }
   ],
   "source": [
    "prediction"
   ]
  },
  {
   "cell_type": "code",
   "execution_count": 0,
   "metadata": {
    "colab": {
     "autoexec": {
      "startup": false,
      "wait_interval": 0
     }
    },
    "colab_type": "code",
    "id": "GunlagAd37UU"
   },
   "outputs": [],
   "source": []
  }
 ],
 "metadata": {
  "colab": {
   "default_view": {},
   "name": "fight_fire_.ipynb",
   "provenance": [],
   "version": "0.3.2",
   "views": {}
  },
  "kernelspec": {
   "display_name": "Python 3",
   "language": "python",
   "name": "python3"
  },
  "language_info": {
   "codemirror_mode": {
    "name": "ipython",
    "version": 3
   },
   "file_extension": ".py",
   "mimetype": "text/x-python",
   "name": "python",
   "nbconvert_exporter": "python",
   "pygments_lexer": "ipython3",
   "version": "3.6.9"
  }
 },
 "nbformat": 4,
 "nbformat_minor": 1
}
